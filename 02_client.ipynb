{
 "cells": [
  {
   "cell_type": "code",
   "execution_count": 1,
   "metadata": {
    "id": "5LjT-e5wR_Y5"
   },
   "outputs": [],
   "source": [
    "import requests\n",
    "import numpy as np\n",
    "import json"
   ]
  },
  {
   "cell_type": "code",
   "execution_count": 2,
   "metadata": {
    "id": "w7GF8mDsSXmC"
   },
   "outputs": [],
   "source": [
    "base_url = 'https://heart-disease-api-m7x0.onrender.com'\n",
    "endpoint = '/predict'\n",
    "confidence = 0.9 # Es un modelo de predicción de enfermedades cardíacas, por lo tanto, necesita un valor mayor a 0,5"
   ]
  },
  {
   "cell_type": "code",
   "execution_count": 3,
   "metadata": {
    "colab": {
     "base_uri": "https://localhost:8080/",
     "height": 36
    },
    "id": "zCY15Tu5SnGS",
    "outputId": "5ea901a5-6aed-454c-de4b-822c8ff39f13"
   },
   "outputs": [
    {
     "data": {
      "text/plain": [
       "'https://heart-disease-api-m7x0.onrender.com/predict'"
      ]
     },
     "execution_count": 3,
     "metadata": {},
     "output_type": "execute_result"
    }
   ],
   "source": [
    "url_with_endpoint_no_params = base_url + endpoint\n",
    "url_with_endpoint_no_params"
   ]
  },
  {
   "cell_type": "code",
   "execution_count": 4,
   "metadata": {
    "colab": {
     "base_uri": "https://localhost:8080/",
     "height": 36
    },
    "id": "py6D8a4bSszy",
    "outputId": "dc3ea594-ac69-4b2d-c5bd-d4fbca49dbbd"
   },
   "outputs": [
    {
     "data": {
      "text/plain": [
       "'https://heart-disease-api-m7x0.onrender.com/predict?confidence=0.9'"
      ]
     },
     "execution_count": 4,
     "metadata": {},
     "output_type": "execute_result"
    }
   ],
   "source": [
    "full_url = url_with_endpoint_no_params + \"?confidence=\" + str(confidence)\n",
    "full_url"
   ]
  },
  {
   "cell_type": "markdown",
   "metadata": {
    "id": "hrTiu71fS3Eb"
   },
   "source": [
    "# Enviando una solicitud al servidor\n",
    "\n",
    "### Creando la función response_from_server"
   ]
  },
  {
   "cell_type": "code",
   "execution_count": 5,
   "metadata": {
    "id": "tmI7cJtPSxRN"
   },
   "outputs": [],
   "source": [
    "def response_from_server(url, item_features, verbose=True):\n",
    "    \"\"\"Hace una solicitud POST al servidor y retorna la respuesta.\n",
    "\n",
    "    Argumentos:\n",
    "        url (str): URL a la que se envía la consulta.\n",
    "        item_features (dict): vector de característica del viaje.\n",
    "        verbose (bool): True si se debe imprimir el estado de la solicitud. False en otro caso.\n",
    "\n",
    "    Retorna:\n",
    "        requests.models.Response: Respuesta del servidor.\n",
    "    \"\"\"\n",
    "    response = None\n",
    "    status_code = None\n",
    "    try:\n",
    "        response = requests.post(url, json=item_features)\n",
    "        status_code = response.status_code\n",
    "    except TypeError as e:\n",
    "        print(f\"Serialización falló: {e}\")\n",
    "        status_code = 400  \n",
    "\n",
    "    if verbose:\n",
    "        msg = \"¡Todo funcionó bien!\" if status_code == 200 else \"Hubo un error al ejecutar la solicitud.\"\n",
    "        print(msg)\n",
    "    return response"
   ]
  },
  {
   "cell_type": "markdown",
   "metadata": {},
   "source": [
    "### Pruebas de consultas válidas"
   ]
  },
  {
   "cell_type": "code",
   "execution_count": 6,
   "metadata": {
    "id": "eQDF-ieNTBnb"
   },
   "outputs": [],
   "source": [
    "item_features =  {\n",
    "    \"age\": 41,\n",
    "    \"sex\": 1,\n",
    "    \"cp\":  0,\n",
    "    \"trestbps\": 110,\n",
    "    \"chol\": 172,\n",
    "    \"fbs\":  0,\n",
    "    \"restecg\": 0,\n",
    "    \"thalach\": 158,\n",
    "    \"exang\": 0,\n",
    "    \"oldpeak\": 0,\n",
    "    \"slope\": 2,\n",
    "    \"ca\": 3,\n",
    "    \"thal\": 2\n",
    "}"
   ]
  },
  {
   "cell_type": "code",
   "execution_count": 7,
   "metadata": {
    "id": "jhiFakX2TzFD"
   },
   "outputs": [
    {
     "name": "stdout",
     "output_type": "stream",
     "text": [
      "¡Todo funcionó bien!\n",
      "{\"predicted_class\":0}\n"
     ]
    }
   ],
   "source": [
    "prediction = response_from_server(full_url, item_features)\n",
    "if prediction is not None:\n",
    "    print(prediction.text)"
   ]
  },
  {
   "cell_type": "code",
   "execution_count": 8,
   "metadata": {},
   "outputs": [],
   "source": [
    "item_features =  {\n",
    "    \"age\": 62,\n",
    "    \"sex\": 0,\n",
    "    \"cp\":  1,\n",
    "    \"trestbps\": 110,\n",
    "    \"chol\": 250,\n",
    "    \"fbs\":  1,\n",
    "    \"restecg\": 0,\n",
    "    \"thalach\": 158,\n",
    "    \"exang\": 0,\n",
    "    \"oldpeak\": 0,\n",
    "    \"slope\": 1,\n",
    "    \"ca\": 3,\n",
    "    \"thal\": 3\n",
    "}"
   ]
  },
  {
   "cell_type": "code",
   "execution_count": 9,
   "metadata": {},
   "outputs": [
    {
     "name": "stdout",
     "output_type": "stream",
     "text": [
      "¡Todo funcionó bien!\n",
      "{\"predicted_class\":0}\n"
     ]
    }
   ],
   "source": [
    "prediction = response_from_server(full_url, item_features)\n",
    "if prediction is not None:\n",
    "    print(prediction.text)"
   ]
  },
  {
   "cell_type": "code",
   "execution_count": 10,
   "metadata": {},
   "outputs": [],
   "source": [
    "item_features =  {\n",
    "    \"age\": 56,\n",
    "    \"sex\": 1,\n",
    "    \"cp\":  3,\n",
    "    \"trestbps\": 120,\n",
    "    \"chol\": 193,\n",
    "    \"fbs\":  0,\n",
    "    \"restecg\": 0,\n",
    "    \"thalach\": 162,\n",
    "    \"exang\": 0,\n",
    "    \"oldpeak\": 1.9,\n",
    "    \"slope\": 1,\n",
    "    \"ca\": 0,\n",
    "    \"thal\": 3\n",
    "}"
   ]
  },
  {
   "cell_type": "code",
   "execution_count": 11,
   "metadata": {},
   "outputs": [
    {
     "name": "stdout",
     "output_type": "stream",
     "text": [
      "¡Todo funcionó bien!\n",
      "{\"predicted_class\":1}\n"
     ]
    }
   ],
   "source": [
    "prediction = response_from_server(full_url, item_features)\n",
    "if prediction is not None:\n",
    "    print(prediction.text)"
   ]
  },
  {
   "cell_type": "code",
   "execution_count": 12,
   "metadata": {},
   "outputs": [],
   "source": [
    "item_features =  {\n",
    "    \"age\": 29,\n",
    "    \"sex\": 1,\n",
    "    \"cp\":  1,\n",
    "    \"trestbps\": 130,\n",
    "    \"chol\": 204,\n",
    "    \"fbs\":  0,\n",
    "    \"restecg\": 0,\n",
    "    \"thalach\": 202,\n",
    "    \"exang\": 0,\n",
    "    \"oldpeak\": 0,\n",
    "    \"slope\": 2,\n",
    "    \"ca\": 0,\n",
    "    \"thal\": 2\n",
    "}"
   ]
  },
  {
   "cell_type": "code",
   "execution_count": 13,
   "metadata": {},
   "outputs": [
    {
     "name": "stdout",
     "output_type": "stream",
     "text": [
      "¡Todo funcionó bien!\n",
      "{\"predicted_class\":1}\n"
     ]
    }
   ],
   "source": [
    "prediction = response_from_server(full_url, item_features)\n",
    "if prediction is not None:\n",
    "    print(prediction.text)"
   ]
  },
  {
   "cell_type": "markdown",
   "metadata": {},
   "source": [
    "### Prueba de consultas inválidas"
   ]
  },
  {
   "cell_type": "code",
   "execution_count": 14,
   "metadata": {},
   "outputs": [],
   "source": [
    "item_features =  {\n",
    "    \"age\": -2,\n",
    "    \"sex\": 1,\n",
    "    \"cp\":  0,\n",
    "    \"trestbps\": 110,\n",
    "    \"chol\": 172,\n",
    "    \"fbs\":  0,\n",
    "    \"restecg\": 0,\n",
    "    \"thalach\": 158,\n",
    "    \"exang\": 0,\n",
    "    \"oldpeak\": 0,\n",
    "    \"slope\": 2,\n",
    "    \"ca\": 0,\n",
    "    \"thal\": 'poroto'\n",
    "}"
   ]
  },
  {
   "cell_type": "code",
   "execution_count": 15,
   "metadata": {},
   "outputs": [
    {
     "name": "stdout",
     "output_type": "stream",
     "text": [
      "Hubo un error al ejecutar la solicitud.\n",
      "{\"detail\":[{\"type\":\"value_error\",\"loc\":[\"body\",\"age\"],\"msg\":\"Value error, -2 es un valor fuera de rango\",\"input\":-2,\"ctx\":{\"error\":{}}},{\"type\":\"int_parsing\",\"loc\":[\"body\",\"thal\"],\"msg\":\"Input should be a valid integer, unable to parse string as an integer\",\"input\":\"poroto\"}]}\n"
     ]
    }
   ],
   "source": [
    "prediction = response_from_server(full_url, item_features)\n",
    "if prediction is not None:\n",
    "    print(prediction.text)"
   ]
  },
  {
   "cell_type": "code",
   "execution_count": 16,
   "metadata": {},
   "outputs": [],
   "source": [
    "item_features = 'gato'"
   ]
  },
  {
   "cell_type": "code",
   "execution_count": 17,
   "metadata": {},
   "outputs": [
    {
     "name": "stdout",
     "output_type": "stream",
     "text": [
      "Hubo un error al ejecutar la solicitud.\n",
      "{\"detail\":[{\"type\":\"model_attributes_type\",\"loc\":[\"body\"],\"msg\":\"Input should be a valid dictionary or object to extract fields from\",\"input\":\"gato\"}]}\n"
     ]
    }
   ],
   "source": [
    "prediction = response_from_server(full_url, item_features)\n",
    "if prediction is not None:\n",
    "    print(prediction.text)"
   ]
  },
  {
   "cell_type": "code",
   "execution_count": 18,
   "metadata": {},
   "outputs": [],
   "source": [
    "item_features = {\n",
    "23455\n",
    "\n",
    "}"
   ]
  },
  {
   "cell_type": "code",
   "execution_count": 19,
   "metadata": {},
   "outputs": [
    {
     "name": "stdout",
     "output_type": "stream",
     "text": [
      "Serialización falló: Object of type set is not JSON serializable\n",
      "Hubo un error al ejecutar la solicitud.\n"
     ]
    }
   ],
   "source": [
    "prediction = response_from_server(full_url, item_features)\n",
    "if prediction is not None:\n",
    "    print(prediction.text)"
   ]
  },
  {
   "cell_type": "code",
   "execution_count": 20,
   "metadata": {},
   "outputs": [],
   "source": [
    "item_features =  {\n",
    "    \"sex\": 1,\n",
    "    \"cp\":  1,\n",
    "    \"trestbps\": 130,\n",
    "    \"chol\": 204,\n",
    "    \"restecg\": 0,\n",
    "    \"thalach\": 202,\n",
    "    \"exang\": 0,\n",
    "    \"oldpeak\": 0,\n",
    "    \"slope\": 2,\n",
    "    \"ca\": 0,\n",
    "    \"thal\": 3\n",
    "}"
   ]
  },
  {
   "cell_type": "code",
   "execution_count": 21,
   "metadata": {},
   "outputs": [
    {
     "name": "stdout",
     "output_type": "stream",
     "text": [
      "Hubo un error al ejecutar la solicitud.\n",
      "{\"detail\":[{\"type\":\"missing\",\"loc\":[\"body\",\"age\"],\"msg\":\"Field required\",\"input\":{\"sex\":1,\"cp\":1,\"trestbps\":130,\"chol\":204,\"restecg\":0,\"thalach\":202,\"exang\":0,\"oldpeak\":0,\"slope\":2,\"ca\":0,\"thal\":3}},{\"type\":\"missing\",\"loc\":[\"body\",\"fbs\"],\"msg\":\"Field required\",\"input\":{\"sex\":1,\"cp\":1,\"trestbps\":130,\"chol\":204,\"restecg\":0,\"thalach\":202,\"exang\":0,\"oldpeak\":0,\"slope\":2,\"ca\":0,\"thal\":3}}]}\n"
     ]
    }
   ],
   "source": [
    "prediction = response_from_server(full_url, item_features)\n",
    "if prediction is not None:\n",
    "    print(prediction.text)"
   ]
  },
  {
   "cell_type": "code",
   "execution_count": null,
   "metadata": {},
   "outputs": [],
   "source": []
  }
 ],
 "metadata": {
  "colab": {
   "provenance": []
  },
  "kernelspec": {
   "display_name": "Python 3 (ipykernel)",
   "language": "python",
   "name": "python3"
  },
  "language_info": {
   "codemirror_mode": {
    "name": "ipython",
    "version": 3
   },
   "file_extension": ".py",
   "mimetype": "text/x-python",
   "name": "python",
   "nbconvert_exporter": "python",
   "pygments_lexer": "ipython3",
   "version": "3.13.6"
  },
  "widgets": {
   "application/vnd.jupyter.widget-state+json": {
    "state": {},
    "version_major": 2,
    "version_minor": 0
   }
  }
 },
 "nbformat": 4,
 "nbformat_minor": 4
}
