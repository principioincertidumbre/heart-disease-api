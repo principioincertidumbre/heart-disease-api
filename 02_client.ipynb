{
 "cells": [
  {
   "cell_type": "code",
   "execution_count": 2,
   "metadata": {
    "id": "5LjT-e5wR_Y5"
   },
   "outputs": [],
   "source": [
    "import requests\n",
    "import numpy as np\n",
    "import json"
   ]
  },
  {
   "cell_type": "code",
   "execution_count": 3,
   "metadata": {
    "id": "w7GF8mDsSXmC"
   },
   "outputs": [],
   "source": [
    "base_url = 'https://heart-disease-api-m7x0.onrender.com/'\n",
    "endpoint = '/predict'\n",
    "confidence = 0.9 # Es un modelo de predicción de enfermedades cardíacas, por lo tanto, necesita un valor mayor a 0,5"
   ]
  },
  {
   "cell_type": "code",
   "execution_count": 4,
   "metadata": {
    "colab": {
     "base_uri": "https://localhost:8080/",
     "height": 36
    },
    "id": "zCY15Tu5SnGS",
    "outputId": "5ea901a5-6aed-454c-de4b-822c8ff39f13"
   },
   "outputs": [
    {
     "data": {
      "text/plain": [
       "'https://heart-disease-api-m7x0.onrender.com//predict'"
      ]
     },
     "execution_count": 4,
     "metadata": {},
     "output_type": "execute_result"
    }
   ],
   "source": [
    "url_with_endpoint_no_params = base_url + endpoint\n",
    "url_with_endpoint_no_params"
   ]
  },
  {
   "cell_type": "code",
   "execution_count": 5,
   "metadata": {
    "colab": {
     "base_uri": "https://localhost:8080/",
     "height": 36
    },
    "id": "py6D8a4bSszy",
    "outputId": "dc3ea594-ac69-4b2d-c5bd-d4fbca49dbbd"
   },
   "outputs": [
    {
     "data": {
      "text/plain": [
       "'https://heart-disease-api-m7x0.onrender.com//predict?confidence=0.9'"
      ]
     },
     "execution_count": 5,
     "metadata": {},
     "output_type": "execute_result"
    }
   ],
   "source": [
    "full_url = url_with_endpoint_no_params + \"?confidence=\" + str(confidence)\n",
    "full_url"
   ]
  },
  {
   "cell_type": "markdown",
   "metadata": {
    "id": "hrTiu71fS3Eb"
   },
   "source": [
    "# Enviando una solicitud al servidor\n",
    "\n",
    "### Creando la función response_from_server"
   ]
  },
  {
   "cell_type": "code",
   "execution_count": 6,
   "metadata": {
    "id": "tmI7cJtPSxRN"
   },
   "outputs": [],
   "source": [
    "def response_from_server(url, item_features, verbose=True):\n",
    "    \"\"\"Hace una solicitud POST al servidor y retorna la respuesta.\n",
    "\n",
    "    Argumentos:\n",
    "        url (str): URL a la que se envía la consulta.\n",
    "        item_features (dict): vector de característica del viaje.\n",
    "        verbose (bool): True si se debe imprimir el estado de la solicitud. False en otro caso.\n",
    "\n",
    "    Retorna:\n",
    "        requests.models.Response: Respuesta del servidor.\n",
    "    \"\"\"\n",
    "    response = requests.post(url, data=json.dumps(item_features))\n",
    "    status_code = response.status_code\n",
    "    if verbose:\n",
    "        msg = \"¡Todo funcionó bien!\" if status_code == 200 else \"Hubo un error al ejecutar la solicitud.\"\n",
    "        print(msg)\n",
    "    return response"
   ]
  },
  {
   "cell_type": "markdown",
   "metadata": {},
   "source": [
    "### Pruebas de consultas válidas"
   ]
  },
  {
   "cell_type": "code",
   "execution_count": 7,
   "metadata": {
    "id": "eQDF-ieNTBnb"
   },
   "outputs": [],
   "source": [
    "item_features =  {\n",
    "    \"age\": 41,\n",
    "    \"sex\": 1,\n",
    "    \"cp\":  0,\n",
    "    \"trestbps\": 110,\n",
    "    \"chol\": 172,\n",
    "    \"fbs\":  0,\n",
    "    \"restecg\": 0,\n",
    "    \"thalach\": 158,\n",
    "    \"exang\": 0,\n",
    "    \"oldpeak\": 0,\n",
    "    \"slope\": 2,\n",
    "    \"ca\": 3,\n",
    "    \"thal\": 2\n",
    "}"
   ]
  },
  {
   "cell_type": "code",
   "execution_count": 8,
   "metadata": {
    "id": "jhiFakX2TzFD"
   },
   "outputs": [
    {
     "name": "stdout",
     "output_type": "stream",
     "text": [
      "¡Todo funcionó bien!\n"
     ]
    },
    {
     "data": {
      "text/plain": [
       "'{\"predicted_class\":0}'"
      ]
     },
     "execution_count": 8,
     "metadata": {},
     "output_type": "execute_result"
    }
   ],
   "source": [
    "prediction = response_from_server(full_url, item_features)\n",
    "prediction.text"
   ]
  },
  {
   "cell_type": "code",
   "execution_count": 9,
   "metadata": {},
   "outputs": [],
   "source": [
    "item_features =  {\n",
    "    \"age\": 62,\n",
    "    \"sex\": 0,\n",
    "    \"cp\":  1,\n",
    "    \"trestbps\": 110,\n",
    "    \"chol\": 250,\n",
    "    \"fbs\":  1,\n",
    "    \"restecg\": 0,\n",
    "    \"thalach\": 158,\n",
    "    \"exang\": 0,\n",
    "    \"oldpeak\": 0,\n",
    "    \"slope\": 1,\n",
    "    \"ca\": 3,\n",
    "    \"thal\": 3\n",
    "}"
   ]
  },
  {
   "cell_type": "code",
   "execution_count": 10,
   "metadata": {},
   "outputs": [
    {
     "name": "stdout",
     "output_type": "stream",
     "text": [
      "¡Todo funcionó bien!\n"
     ]
    },
    {
     "data": {
      "text/plain": [
       "'{\"predicted_class\":0}'"
      ]
     },
     "execution_count": 10,
     "metadata": {},
     "output_type": "execute_result"
    }
   ],
   "source": [
    "prediction = response_from_server(full_url, item_features)\n",
    "prediction.text"
   ]
  },
  {
   "cell_type": "code",
   "execution_count": 11,
   "metadata": {},
   "outputs": [],
   "source": [
    "item_features =  {\n",
    "    \"age\": 56,\n",
    "    \"sex\": 1,\n",
    "    \"cp\":  3,\n",
    "    \"trestbps\": 120,\n",
    "    \"chol\": 193,\n",
    "    \"fbs\":  0,\n",
    "    \"restecg\": 0,\n",
    "    \"thalach\": 162,\n",
    "    \"exang\": 0,\n",
    "    \"oldpeak\": 1.9,\n",
    "    \"slope\": 1,\n",
    "    \"ca\": 0,\n",
    "    \"thal\": 3\n",
    "}"
   ]
  },
  {
   "cell_type": "code",
   "execution_count": 12,
   "metadata": {},
   "outputs": [
    {
     "name": "stdout",
     "output_type": "stream",
     "text": [
      "¡Todo funcionó bien!\n"
     ]
    },
    {
     "data": {
      "text/plain": [
       "'{\"predicted_class\":1}'"
      ]
     },
     "execution_count": 12,
     "metadata": {},
     "output_type": "execute_result"
    }
   ],
   "source": [
    "prediction = response_from_server(full_url, item_features)\n",
    "prediction.text"
   ]
  },
  {
   "cell_type": "markdown",
   "metadata": {},
   "source": [
    "### Prueba de consultas inválidas"
   ]
  },
  {
   "cell_type": "code",
   "execution_count": 13,
   "metadata": {},
   "outputs": [],
   "source": [
    "item_features =  {\n",
    "    \"age\": 'hola que hace',\n",
    "    \"sex\": 1,\n",
    "    \"cp\":  0,\n",
    "    \"trestbps\": 110,\n",
    "    \"chol\": 172,\n",
    "    \"fbs\":  0,\n",
    "    \"restecg\": 0,\n",
    "    \"thalach\": 158,\n",
    "    \"exang\": 0,\n",
    "    \"oldpeak\": 0,\n",
    "    \"slope\": 2,\n",
    "    \"ca\": 0,\n",
    "    \"thal\": 'poroto'\n",
    "}"
   ]
  },
  {
   "cell_type": "code",
   "execution_count": 14,
   "metadata": {},
   "outputs": [
    {
     "name": "stdout",
     "output_type": "stream",
     "text": [
      "Hubo un error al ejecutar la solicitud.\n"
     ]
    },
    {
     "data": {
      "text/plain": [
       "'{\"detail\":[{\"type\":\"int_parsing\",\"loc\":[\"body\",\"age\"],\"msg\":\"Input should be a valid integer, unable to parse string as an integer\",\"input\":\"hola que hace\"},{\"type\":\"int_parsing\",\"loc\":[\"body\",\"thal\"],\"msg\":\"Input should be a valid integer, unable to parse string as an integer\",\"input\":\"poroto\"}]}'"
      ]
     },
     "execution_count": 14,
     "metadata": {},
     "output_type": "execute_result"
    }
   ],
   "source": [
    "prediction = response_from_server(full_url, item_features)\n",
    "prediction.text"
   ]
  },
  {
   "cell_type": "code",
   "execution_count": 15,
   "metadata": {},
   "outputs": [],
   "source": [
    "item_features = 'gato'\n"
   ]
  },
  {
   "cell_type": "code",
   "execution_count": 16,
   "metadata": {},
   "outputs": [
    {
     "name": "stdout",
     "output_type": "stream",
     "text": [
      "Hubo un error al ejecutar la solicitud.\n"
     ]
    },
    {
     "data": {
      "text/plain": [
       "'{\"detail\":[{\"type\":\"model_attributes_type\",\"loc\":[\"body\"],\"msg\":\"Input should be a valid dictionary or object to extract fields from\",\"input\":\"gato\"}]}'"
      ]
     },
     "execution_count": 16,
     "metadata": {},
     "output_type": "execute_result"
    }
   ],
   "source": [
    "prediction = response_from_server(full_url, item_features)\n",
    "prediction.text"
   ]
  },
  {
   "cell_type": "code",
   "execution_count": 17,
   "metadata": {},
   "outputs": [],
   "source": [
    "item_features = 23455"
   ]
  },
  {
   "cell_type": "code",
   "execution_count": 18,
   "metadata": {},
   "outputs": [
    {
     "name": "stdout",
     "output_type": "stream",
     "text": [
      "Hubo un error al ejecutar la solicitud.\n"
     ]
    },
    {
     "data": {
      "text/plain": [
       "'{\"detail\":[{\"type\":\"model_attributes_type\",\"loc\":[\"body\"],\"msg\":\"Input should be a valid dictionary or object to extract fields from\",\"input\":23455}]}'"
      ]
     },
     "execution_count": 18,
     "metadata": {},
     "output_type": "execute_result"
    }
   ],
   "source": [
    "prediction = response_from_server(full_url, item_features)\n",
    "prediction.text"
   ]
  }
 ],
 "metadata": {
  "colab": {
   "provenance": []
  },
  "kernelspec": {
   "display_name": "Python 3 (ipykernel)",
   "language": "python",
   "name": "python3"
  },
  "language_info": {
   "codemirror_mode": {
    "name": "ipython",
    "version": 3
   },
   "file_extension": ".py",
   "mimetype": "text/x-python",
   "name": "python",
   "nbconvert_exporter": "python",
   "pygments_lexer": "ipython3",
   "version": "3.13.5"
  },
  "widgets": {
   "application/vnd.jupyter.widget-state+json": {
    "state": {},
    "version_major": 2,
    "version_minor": 0
   }
  }
 },
 "nbformat": 4,
 "nbformat_minor": 4
}
