{
  "nbformat": 4,
  "nbformat_minor": 0,
  "metadata": {
    "colab": {
      "provenance": []
    },
    "kernelspec": {
      "name": "python3",
      "display_name": "Python 3"
    },
    "language_info": {
      "name": "python"
    }
  },
  "cells": [
    {
      "cell_type": "markdown",
      "source": [
        "# Implementación de un modelo de Machine Learning para predecir enfermedades cardíacas"
      ],
      "metadata": {
        "id": "XFoe4XupLEiw"
      }
    },
    {
      "cell_type": "markdown",
      "source": [
        "## Clasificación binaria de datos tabulares usando XGBoost\n"
      ],
      "metadata": {
        "id": "ND6O-U2fK-4X"
      }
    },
    {
      "cell_type": "markdown",
      "source": [
        "### Creando la función predict_heart_disease"
      ],
      "metadata": {
        "id": "R640xGBtKWz6"
      }
    },
    {
      "cell_type": "markdown",
      "source": [
        "El conjunto de datos seleccionado para entrenar el modelo es \"Heart Disease Dataset\", el cual considera las siguientes variables o atributos:<br>\n",
        "age: edad del paciente.<br>\n",
        "sex: sexo (1 = hombre, 0 = mujer).<br>\n",
        "cp: tipo de dolor en el pecho (categorías de 1 a 4, denominadas 1: angina típica, 2: angina atípica, 3: dolor torácico que no es causado por angina, 4: asintomático). <br>\n",
        "trestbps: presión arterial en reposo (en mm Hg). <br>\n",
        "chol: nivel de colesterol en sangre (mg/dl). <br>\n",
        "fbs: glucemia en ayunas (> 120 mg/dl, 1 = verdadero; 0 = falso). <br>\n",
        "restecg: resultados del electrocardiograma en reposo (0: normal, 1: tiene anomalías de la onda ST-T (inversiones de la onda T y/o elevación o depresión ST de > 0.05 mV), 2: muestra probablemente o definitivamente hipertrofia del ventrículo izquierdo según los criterios de Estes).<br>\n",
        "thalach: frecuencia cardíaca máxima alcanzada.<br>\n",
        "exang: angina inducida por ejercicio (1 = sí, 0 = no).<br>\n",
        "oldpeak: depresión ST inducida por el ejercicio en relación al reposo.<br>\n",
        "slope: Pendiente del segmento ST del ejercicio máximo. (1: ascendente,\n",
        "2: plana, 3: descendente)<br>\n",
        "ca: número de vasos principales coloreados por fluoroscopia (de 0 a 3).<br>\n",
        "thal: talasemia (1 = normal, 2 = defecto fijo, 3 = defecto reversible).<br>\n",
        "target: variable objetivo (1 = presencia de enfermedad, 0 = ausencia)."
      ],
      "metadata": {
        "id": "5i9JeDEYNy34"
      }
    },
    {
      "cell_type": "code",
      "source": [
        "import joblib\n",
        "import numpy as np\n",
        "\n",
        "xgb = joblib.load(\"./model/heart_model.joblib\")\n",
        "\n",
        "def predict_heart_disease(features_patient, confidence):\n",
        "    \"\"\"Recibe un vector de características de un paciente y predice si padece o no una enfermedad cardíaca.\n",
        "\n",
        "    Argumentos:\n",
        "        features_trip (array): Características del viaje, vector de tamaño 14.\n",
        "        confidence (float, opcional): Nivel de confianza. Por defecto es 0.5.\n",
        "    \"\"\"\n",
        "\n",
        "    pred_value = xgb.predict_proba(features_patient.reshape(1, -1))[0][1]\n",
        "    if pred_value >= confidence:\n",
        "      return 1\n",
        "    else:\n",
        "      return 0"
      ],
      "metadata": {
        "id": "m-rlBPgkJ5Qg"
      },
      "execution_count": 2,
      "outputs": []
    },
    {
      "cell_type": "markdown",
      "source": [
        "Probar con un paciente de ejemplo:"
      ],
      "metadata": {
        "id": "ueZKESehLvUf"
      }
    },
    {
      "cell_type": "code",
      "source": [
        "features_patient = np.array([71,0,0,112,149,0,1,125,0,1.6,1,0,2])"
      ],
      "metadata": {
        "id": "SalRBTiWLzWH"
      },
      "execution_count": 5,
      "outputs": []
    },
    {
      "cell_type": "code",
      "source": [
        "predict_heart_disease(features_patient, 0.5)"
      ],
      "metadata": {
        "colab": {
          "base_uri": "https://localhost:8080/"
        },
        "id": "j-FLau6NMtt3",
        "outputId": "260b05c2-100b-4c2f-dfca-3facb39f368d"
      },
      "execution_count": 6,
      "outputs": [
        {
          "output_type": "execute_result",
          "data": {
            "text/plain": [
              "1"
            ]
          },
          "metadata": {},
          "execution_count": 6
        }
      ]
    },
    {
      "cell_type": "code",
      "source": [
        "predict_heart_disease(features_patient, 0.6)"
      ],
      "metadata": {
        "colab": {
          "base_uri": "https://localhost:8080/"
        },
        "id": "HkfOwnldM-tX",
        "outputId": "48500334-9477-4856-d86f-a03e1fb7da41"
      },
      "execution_count": 7,
      "outputs": [
        {
          "output_type": "execute_result",
          "data": {
            "text/plain": [
              "1"
            ]
          },
          "metadata": {},
          "execution_count": 7
        }
      ]
    },
    {
      "cell_type": "code",
      "source": [
        "predict_heart_disease(features_patient, 0.7)"
      ],
      "metadata": {
        "colab": {
          "base_uri": "https://localhost:8080/"
        },
        "id": "-F_1UAklNBEn",
        "outputId": "309379da-d3ff-4d2d-d928-361cb6e242be"
      },
      "execution_count": 8,
      "outputs": [
        {
          "output_type": "execute_result",
          "data": {
            "text/plain": [
              "1"
            ]
          },
          "metadata": {},
          "execution_count": 8
        }
      ]
    },
    {
      "cell_type": "markdown",
      "source": [
        "Implementando el modelo XGBoost usando fastAPI"
      ],
      "metadata": {
        "id": "sXcXaNT7HAUd"
      }
    },
    {
      "cell_type": "code",
      "execution_count": 9,
      "metadata": {
        "id": "JbrLZQEBG5kt"
      },
      "outputs": [],
      "source": [
        "import io\n",
        "import uvicorn\n",
        "import nest_asyncio\n",
        "from enum import Enum\n",
        "from fastapi import FastAPI, HTTPException\n",
        "from fastapi.responses import StreamingResponse\n",
        "from pydantic import BaseModel"
      ]
    },
    {
      "cell_type": "code",
      "source": [
        "# Asignamos una instancia de la clase FastAPI a la variable \"app\".\n",
        "# Interacturaremos con la API usando este elemento.\n",
        "app = FastAPI(title='Implementando un modelo de predicción de presencia de enfermedades cardíacas usando FastAPI')\n",
        "\n",
        "# Creamos una clase para el vector de features de entrada\n",
        "class Item(BaseModel):\n",
        "    age: int\n",
        "    sex: int\n",
        "    cp:  int\n",
        "    trestbps: int\n",
        "    chol: int\n",
        "    fbs:  int\n",
        "    restecg: int\n",
        "    thalach: int\n",
        "    exang: int\n",
        "    oldpeak: float\n",
        "    slope: int\n",
        "    ca: int\n",
        "    thal: int\n",
        "\n",
        "# Usando @app.get(\"/\") definimos un método GET para el endpoint / (que sería como el \"home\").\n",
        "@app.get(\"/\")\n",
        "def home():\n",
        "    return \"¡Felicitaciones! Tu API está funcionando según lo esperado. Anda ahora a http://localhost:8000/docs.\"\n",
        "\n",
        "\n",
        "# Este endpoint maneja la lógica necesaria para clasificar.\n",
        "# Requiere como entrada el vector de características del viaje y el umbral de confianza para la clasificación.\n",
        "@app.post(\"/predict\")\n",
        "def prediction(item: Item, confidence: float):\n",
        "\n",
        "\n",
        "    # 1. Correr el modelo de clasificación\n",
        "    features_patient = np.array([item.age, item.sex, item.cp, item.trestbps, item. chol, item.fbs,\n",
        "                    item.restecg, item.thalach, item.exang, item.oldpeak, item.slope, item.ca, item.thal])\n",
        "    pred = predict_heart_disease(features_patient, confidence)\n",
        "\n",
        "    # 2. Transmitir la respuesta de vuelta al cliente\n",
        "\n",
        "    # Retornar el resultado de la predicción\n",
        "    return {'predicted_class': pred}"
      ],
      "metadata": {
        "id": "TeGLTFisHces"
      },
      "execution_count": 10,
      "outputs": []
    },
    {
      "cell_type": "code",
      "source": [
        "# Esto deja correr al servidor en un ambiente interactivo como un Jupyter notebook\n",
        "nest_asyncio.apply()\n",
        "\n",
        "# Donde se hospedará el servidor\n",
        "host = \"127.0.0.1\"\n",
        "\n",
        "# ¡Iniciemos el servidor!\n",
        "uvicorn.run(app, host=host, port=8000)"
      ],
      "metadata": {
        "colab": {
          "base_uri": "https://localhost:8080/"
        },
        "id": "GoNl7B8zR17n",
        "outputId": "48b6ce12-f672-4587-a1e7-5ce7017d0855"
      },
      "execution_count": 11,
      "outputs": [
        {
          "output_type": "stream",
          "name": "stderr",
          "text": [
            "INFO:     Started server process [390]\n",
            "INFO:     Waiting for application startup.\n",
            "INFO:     Application startup complete.\n",
            "INFO:     Uvicorn running on http://127.0.0.1:8000 (Press CTRL+C to quit)\n",
            "INFO:     Shutting down\n",
            "INFO:     Waiting for application shutdown.\n",
            "INFO:     Application shutdown complete.\n",
            "INFO:     Finished server process [390]\n"
          ]
        }
      ]
    }
  ]
}
