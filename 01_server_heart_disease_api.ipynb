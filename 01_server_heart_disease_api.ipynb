{
 "cells": [
  {
   "cell_type": "markdown",
   "metadata": {
    "id": "XFoe4XupLEiw"
   },
   "source": [
    "# Implementación de un modelo de Machine Learning para predecir enfermedades cardíacas"
   ]
  },
  {
   "cell_type": "markdown",
   "metadata": {
    "id": "ND6O-U2fK-4X"
   },
   "source": [
    "## Clasificación binaria de datos tabulares usando XGBoost\n"
   ]
  },
  {
   "cell_type": "markdown",
   "metadata": {
    "id": "R640xGBtKWz6"
   },
   "source": [
    "### Creando la función predict_heart_disease"
   ]
  },
  {
   "cell_type": "markdown",
   "metadata": {
    "id": "5i9JeDEYNy34"
   },
   "source": [
    "El conjunto de datos seleccionado para entrenar el modelo es \"Heart Disease Dataset\", el cual considera las siguientes variables o atributos:<br>\n",
    "age: edad del paciente.<br>\n",
    "sex: sexo (1 = hombre, 0 = mujer).<br>\n",
    "cp: tipo de dolor en el pecho (categorías de 1 a 4, denominadas 1: angina típica, 2: angina atípica, 3: dolor torácico que no es causado por angina, 4: asintomático). <br>\n",
    "trestbps: presión arterial en reposo (en mm Hg). <br>\n",
    "chol: nivel de colesterol en sangre (mg/dl). <br>\n",
    "fbs: glucemia en ayunas (> 120 mg/dl, 1 = verdadero; 0 = falso). <br>\n",
    "restecg: resultados del electrocardiograma en reposo (0: normal, 1: tiene anomalías de la onda ST-T wave (inversiones de la onda T y/o elevación o depresión ST de > 0.05 mV), 2: muestra probablemente o definitivamente hipertrofia del ventrículo izquierdo según los criterios de Estes).<br>\n",
    "thalach: frecuencia cardíaca máxima alcanzada.<br>\n",
    "exang: angina inducida por ejercicio (1 = sí, 0 = no).<br>\n",
    "oldpeak: depresión ST inducida por el ejercicio en relación al reposo.<br>\n",
    "slope: Pendiente del segmento ST del ejercicio máximo. (1: ascendente,\n",
    "2: plana, 3: descendente)<br>\n",
    "ca: número de vasos principales coloreados por fluoroscopia (de 0 a 3).<br>\n",
    "thal: talasemia (1 = normal, 2 = defecto fijo, 3 = defecto reversible).<br>\n",
    "target: variable objetivo (1 = presencia de enfermedad, 0 = ausencia)."
   ]
  },
  {
   "cell_type": "code",
   "execution_count": 2,
   "metadata": {
    "id": "m-rlBPgkJ5Qg"
   },
   "outputs": [],
   "source": [
    "import joblib\n",
    "import numpy as np\n",
    "\n",
    "xgb = joblib.load(\"./model/heart_model.joblib\")\n",
    "\n",
    "def predict_heart_disease(features_patient, confidence):\n",
    "    \"\"\"Recibe un vector de características de un paciente y predice si padece o no una enfermedad cardíaca.\n",
    "\n",
    "    Argumentos:\n",
    "        features_trip (array): Características del viaje, vector de tamaño 14.\n",
    "        confidence (float, opcional): Nivel de confianza. Por defecto es 0.5.\n",
    "    \"\"\"\n",
    "\n",
    "    pred_value = xgb.predict_proba(features_patient.reshape(1, -1))[0][1]\n",
    "    if pred_value >= confidence:\n",
    "      return 1\n",
    "    else:\n",
    "      return 0"
   ]
  },
  {
   "cell_type": "markdown",
   "metadata": {
    "id": "ueZKESehLvUf"
   },
   "source": [
    "Probar con un paciente de ejemplo:"
   ]
  },
  {
   "cell_type": "code",
   "execution_count": 5,
   "metadata": {
    "id": "SalRBTiWLzWH"
   },
   "outputs": [],
   "source": [
    "features_patient = np.array([71,0,0,112,149,0,1,125,0,1.6,1,0,2])"
   ]
  },
  {
   "cell_type": "code",
   "execution_count": 6,
   "metadata": {
    "colab": {
     "base_uri": "https://localhost:8080/"
    },
    "id": "j-FLau6NMtt3",
    "outputId": "260b05c2-100b-4c2f-dfca-3facb39f368d"
   },
   "outputs": [
    {
     "data": {
      "text/plain": [
       "1"
      ]
     },
     "execution_count": 6,
     "metadata": {},
     "output_type": "execute_result"
    }
   ],
   "source": [
    "predict_heart_disease(features_patient, 0.5)"
   ]
  },
  {
   "cell_type": "code",
   "execution_count": 7,
   "metadata": {
    "colab": {
     "base_uri": "https://localhost:8080/"
    },
    "id": "HkfOwnldM-tX",
    "outputId": "48500334-9477-4856-d86f-a03e1fb7da41"
   },
   "outputs": [
    {
     "data": {
      "text/plain": [
       "1"
      ]
     },
     "execution_count": 7,
     "metadata": {},
     "output_type": "execute_result"
    }
   ],
   "source": [
    "predict_heart_disease(features_patient, 0.6)"
   ]
  },
  {
   "cell_type": "code",
   "execution_count": 8,
   "metadata": {
    "colab": {
     "base_uri": "https://localhost:8080/"
    },
    "id": "-F_1UAklNBEn",
    "outputId": "309379da-d3ff-4d2d-d928-361cb6e242be"
   },
   "outputs": [
    {
     "data": {
      "text/plain": [
       "1"
      ]
     },
     "execution_count": 8,
     "metadata": {},
     "output_type": "execute_result"
    }
   ],
   "source": [
    "predict_heart_disease(features_patient, 0.7)"
   ]
  },
  {
   "cell_type": "markdown",
   "metadata": {
    "id": "sXcXaNT7HAUd"
   },
   "source": [
    "Implementando el modelo XGBoost usando fastAPI"
   ]
  },
  {
   "cell_type": "code",
   "execution_count": 9,
   "metadata": {
    "id": "JbrLZQEBG5kt"
   },
   "outputs": [],
   "source": [
    "import io\n",
    "import uvicorn\n",
    "import nest_asyncio\n",
    "from enum import Enum\n",
    "from fastapi import FastAPI, HTTPException\n",
    "from fastapi.responses import StreamingResponse\n",
    "from pydantic import BaseModel"
   ]
  },
  {
   "cell_type": "code",
   "execution_count": 10,
   "metadata": {
    "id": "TeGLTFisHces"
   },
   "outputs": [],
   "source": [
    "# Asignamos una instancia de la clase FastAPI a la variable \"app\".\n",
    "# Interacturaremos con la API usando este elemento.\n",
    "app = FastAPI(title='Implementando un modelo de predicción de presencia de enfermedades cardíacas usando FastAPI')\n",
    "\n",
    "# Creamos una clase para el vector de features de entrada\n",
    "class Item(BaseModel):\n",
    "    age: int\n",
    "    sex: int\n",
    "    cp:  int\n",
    "    trestbps: int\n",
    "    chol: int\n",
    "    fbs:  int\n",
    "    restecg: int\n",
    "    thalach: int\n",
    "    exang: int\n",
    "    oldpeak: float\n",
    "    slope: int\n",
    "    ca: int\n",
    "    thal: int\n",
    "\n",
    "    @field_validator('age', mode='after')\n",
    "\n",
    "    @classmethod\n",
    "    def is_age(cls, value: int) -> int:\n",
    "        if value > 77 or value < 29:\n",
    "            raise ValueError(f'{value} fuera de rango')\n",
    "        return value\n",
    "\n",
    "    @field_validator('sex', mode='after')\n",
    "\n",
    "    @classmethod\n",
    "    def is_sex(cls, value: int) -> int:\n",
    "        if value > 1 or value < 0:\n",
    "            raise ValueError(f'{value} no es válido')\n",
    "        return value\n",
    "\n",
    "    @field_validator('cp', mode='after')\n",
    "\n",
    "    @classmethod\n",
    "    def is_cp(cls, value: int) -> int:\n",
    "        if value > 4 or value < 0:\n",
    "            raise ValueError(f'{value} no es válido')\n",
    "        return value\n",
    "\n",
    "\n",
    "    @field_validator('trestbps', mode='after')\n",
    "\n",
    "    @classmethod\n",
    "    def is_trestbps(cls, value: int) -> int:\n",
    "        if value > 200 or value < 94:\n",
    "            raise ValueError(f'{value} fuera de rango')\n",
    "        return value\n",
    "\n",
    "    @field_validator('chol', mode='after')\n",
    "\n",
    "    @classmethod\n",
    "    def is_chol(cls, value: int) -> int:\n",
    "        if value > 564 or value < 126:\n",
    "            raise ValueError(f'{value} fuera de rango')\n",
    "        return value\n",
    "\n",
    "    @field_validator('fbs', mode='after')\n",
    "\n",
    "    @classmethod\n",
    "    def is_fbs(cls, value: int) -> int:\n",
    "        if value > 1 or value < 0:\n",
    "            raise ValueError(f'{value} no es válido')\n",
    "        return value\n",
    "\n",
    "    @field_validator('restecg', mode='after')\n",
    "\n",
    "    @classmethod\n",
    "    def is_restecg(cls, value: int) -> int:\n",
    "        if value > 2 or value < 0:\n",
    "            raise ValueError(f'{value} no es válido')\n",
    "        return value\n",
    "\n",
    "    @field_validator('thalach', mode='after')\n",
    "\n",
    "    @classmethod\n",
    "    def is_thalach(cls, value: int) -> int:\n",
    "        if value > 202 or value < 71:\n",
    "            raise ValueError(f'{value} fuera de rango')\n",
    "        return value\n",
    "\n",
    "    @field_validator('exang', mode='after')\n",
    "\n",
    "    @classmethod\n",
    "    def is_exang(cls, value: int) -> int:\n",
    "        if value > 1 or value < 0:\n",
    "            raise ValueError(f'{value} no es válido')\n",
    "        return value\n",
    "\n",
    "    @field_validator('oldpeak', mode='after')\n",
    "\n",
    "    @classmethod\n",
    "    def is_oldpeak(cls, value: float) -> float:\n",
    "        if value > 6.2 or value < 0.0:\n",
    "            raise ValueError(f'{value} fuera de rango')\n",
    "        return value\n",
    "\n",
    "    @field_validator('slope', mode='after')\n",
    "\n",
    "    @classmethod\n",
    "    def is_slope(cls, value: int) -> int:\n",
    "        if value > 3 or value < 0:\n",
    "            raise ValueError(f'{value} no es válido')\n",
    "        return value\n",
    "\n",
    "    @field_validator('ca', mode='after')\n",
    "\n",
    "    @classmethod\n",
    "    def is_ca(cls, value: int) -> int:\n",
    "        if value > 3 or value < 0:\n",
    "            raise ValueError(f'{value} no es válido')\n",
    "        return value\n",
    "\n",
    "    @field_validator('thal', mode='after')\n",
    "\n",
    "    @classmethod\n",
    "    def is_thal(cls, value: int) -> int:\n",
    "        if value > 3 or value < 0:\n",
    "            raise ValueError(f'{value} no es válido')\n",
    "        return value\n",
    "\n",
    "# Usando @app.get(\"/\") definimos un método GET para el endpoint / (que sería como el \"home\").\n",
    "@app.get(\"/\")\n",
    "def home():\n",
    "    return \"¡Felicitaciones! Tu API está funcionando según lo esperado. Anda ahora a http://localhost:8000/docs.\"\n",
    "\n",
    "\n",
    "# Este endpoint maneja la lógica necesaria para clasificar.\n",
    "# Requiere como entrada el vector de características del viaje y el umbral de confianza para la clasificación.\n",
    "@app.post(\"/predict\")\n",
    "def prediction(item: Item, confidence: float):\n",
    "\n",
    "\n",
    "    # 1. Correr el modelo de clasificación\n",
    "    features_patient = np.array([item.age, item.sex, item.cp, item.trestbps, item. chol, item.fbs,\n",
    "                    item.restecg, item.thalach, item.exang, item.oldpeak, item.slope, item.ca, item.thal])\n",
    "    pred = predict_heart_disease(features_patient, confidence)\n",
    "\n",
    "    # 2. Transmitir la respuesta de vuelta al cliente\n",
    "\n",
    "    # Retornar el resultado de la predicción\n",
    "    return {'predicted_class': pred}"
   ]
  },
  {
   "cell_type": "code",
   "execution_count": 11,
   "metadata": {
    "colab": {
     "base_uri": "https://localhost:8080/"
    },
    "id": "GoNl7B8zR17n",
    "outputId": "48b6ce12-f672-4587-a1e7-5ce7017d0855"
   },
   "outputs": [
    {
     "name": "stderr",
     "output_type": "stream",
     "text": [
      "INFO:     Started server process [390]\n",
      "INFO:     Waiting for application startup.\n",
      "INFO:     Application startup complete.\n",
      "INFO:     Uvicorn running on http://127.0.0.1:8000 (Press CTRL+C to quit)\n",
      "INFO:     Shutting down\n",
      "INFO:     Waiting for application shutdown.\n",
      "INFO:     Application shutdown complete.\n",
      "INFO:     Finished server process [390]\n"
     ]
    }
   ],
   "source": [
    "# Esto deja correr al servidor en un ambiente interactivo como un Jupyter notebook\n",
    "nest_asyncio.apply()\n",
    "\n",
    "# Donde se hospedará el servidor\n",
    "host = \"127.0.0.1\"\n",
    "\n",
    "# ¡Iniciemos el servidor!\n",
    "uvicorn.run(app, host=host, port=8000)"
   ]
  }
 ],
 "metadata": {
  "colab": {
   "provenance": []
  },
  "kernelspec": {
   "display_name": "Python 3 (ipykernel)",
   "language": "python",
   "name": "python3"
  },
  "language_info": {
   "codemirror_mode": {
    "name": "ipython",
    "version": 3
   },
   "file_extension": ".py",
   "mimetype": "text/x-python",
   "name": "python",
   "nbconvert_exporter": "python",
   "pygments_lexer": "ipython3",
   "version": "3.13.5"
  },
  "widgets": {
   "application/vnd.jupyter.widget-state+json": {
    "state": {},
    "version_major": 2,
    "version_minor": 0
   }
  }
 },
 "nbformat": 4,
 "nbformat_minor": 4
}
